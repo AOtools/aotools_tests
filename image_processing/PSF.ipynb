{
 "cells": [
  {
   "cell_type": "markdown",
   "metadata": {},
   "source": [
    "Azimuthal Averaging\n",
    "-------------------"
   ]
  },
  {
   "cell_type": "code",
   "execution_count": null,
   "metadata": {},
   "outputs": [],
   "source": [
    "import numpy\n",
    "import matplotlib.pylab as plt\n",
    "\n",
    "import aotools"
   ]
  },
  {
   "cell_type": "code",
   "execution_count": null,
   "metadata": {},
   "outputs": [],
   "source": [
    "# Create pupil mask\n",
    "pupil = aotools.circle(64, 128)\n",
    "# Create padding to get an oversampled psf at the end to make it look nice\n",
    "padded_pupil = numpy.zeros((1024, 1024))\n",
    "padded_pupil[:128, :128] = pupil\n",
    "# Use AOtools to transform from the pupil to the focal plane\n",
    "psf = aotools.ft2(padded_pupil, delta=1./128.,)\n",
    "# Cut out the centre of the psf array for prettier plotting\n",
    "psf = psf[512-64:512+64, 512-64:512+64]\n",
    "plt.figure()\n",
    "plt.imshow(numpy.abs(psf))\n",
    "plt.axis('off')"
   ]
  },
  {
   "cell_type": "code",
   "execution_count": null,
   "metadata": {},
   "outputs": [],
   "source": [
    "azi_avg = aotools.azimuthal_average(numpy.abs(psf))\n",
    "plt.figure()\n",
    "plt.plot(azi_avg)\n",
    "plt.xlabel(\"radial pixels\")\n",
    "plt.ylabel(\"relative intensity\")"
   ]
  },
  {
   "cell_type": "code",
   "execution_count": null,
   "metadata": {},
   "outputs": [],
   "source": [
    "plt.figure()\n",
    "plt.subplot(1, 2, 1)\n",
    "plt.imshow(numpy.abs(psf))\n",
    "plt.axis('off')\n",
    "plt.subplot(1, 2, 2)\n",
    "plt.plot(azi_avg)\n",
    "plt.xlabel(\"radial pixels\")\n",
    "plt.ylabel(\"relative intensity\")\n",
    "plt.tight_layout()"
   ]
  },
  {
   "cell_type": "code",
   "execution_count": null,
   "metadata": {},
   "outputs": [],
   "source": []
  }
 ],
 "metadata": {
  "kernelspec": {
   "display_name": "Python 3",
   "language": "python",
   "name": "python3"
  },
  "language_info": {
   "codemirror_mode": {
    "name": "ipython",
    "version": 3
   },
   "file_extension": ".py",
   "mimetype": "text/x-python",
   "name": "python",
   "nbconvert_exporter": "python",
   "pygments_lexer": "ipython3",
   "version": "3.8.3"
  }
 },
 "nbformat": 4,
 "nbformat_minor": 4
}
