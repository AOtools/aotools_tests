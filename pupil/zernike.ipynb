{
 "cells": [
  {
   "cell_type": "markdown",
   "metadata": {},
   "source": [
    "Zernike Modes\n",
    "-------------"
   ]
  },
  {
   "cell_type": "code",
   "execution_count": null,
   "metadata": {},
   "outputs": [],
   "source": [
    "import aotools\n",
    "import numpy\n",
    "import matplotlib.pylab as plt"
   ]
  },
  {
   "cell_type": "code",
   "execution_count": null,
   "metadata": {},
   "outputs": [],
   "source": [
    "zernike_array = aotools.zernikeArray(5, 128)"
   ]
  },
  {
   "cell_type": "code",
   "execution_count": null,
   "metadata": {},
   "outputs": [],
   "source": [
    "fig, ax = plt.subplots(nrows=2, ncols=2)\n",
    "counter=0\n",
    "for i in range(2):\n",
    "    for j in range(2):\n",
    "        counter+=1\n",
    "        im = ax[i, j].imshow(zernike_array[counter], interpolation='nearest', vmin=zernike_array.min(), vmax=zernike_array.max())\n",
    "        ax[i, j].axis('off')\n",
    "\n",
    "leftc= 0.9\n",
    "bottomc=0.14\n",
    "width_c=0.03\n",
    "height_c=0.82\n",
    "cbar_ax= fig.add_axes([leftc,bottomc,width_c,height_c])\n",
    "cbar = fig.colorbar(im,cax=cbar_ax)"
   ]
  },
  {
   "cell_type": "code",
   "execution_count": null,
   "metadata": {},
   "outputs": [],
   "source": []
  }
 ],
 "metadata": {
  "kernelspec": {
   "display_name": "Python 3",
   "language": "python",
   "name": "python3"
  },
  "language_info": {
   "codemirror_mode": {
    "name": "ipython",
    "version": 3
   },
   "file_extension": ".py",
   "mimetype": "text/x-python",
   "name": "python",
   "nbconvert_exporter": "python",
   "pygments_lexer": "ipython3",
   "version": "3.7.1"
  }
 },
 "nbformat": 4,
 "nbformat_minor": 2
}
