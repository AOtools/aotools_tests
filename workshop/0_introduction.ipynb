{
 "cells": [
  {
   "cell_type": "markdown",
   "id": "c1c0b1cd-4a9f-4145-a018-180b3db95424",
   "metadata": {},
   "source": [
    "Adaptive Optics Tools\n",
    "=====================\n",
    "\n",
    "In this series of Jupyter notebooks we will explore creating some commonly used tools and analysis routines using the `aotools` Python package. The notebooks are broadly split into # main themes:\n",
    "- Zernike Modes\n",
    "- Atmospheric Turbulence\n",
    "- Propagation of aberrated wavefronts\n",
    "- Imaging"
   ]
  },
  {
   "cell_type": "markdown",
   "id": "1af44d40-f33c-446b-bda2-1efa01e52885",
   "metadata": {},
   "source": [
    "Getting Started\n",
    "---------------\n",
    "\n",
    "To follow this series of notebooks you will need to install a few key packages. This includes:\n",
    "- aotools\n",
    "- jupyter\n",
    "\n",
    "We recommend using the [anaconda](https://www.anaconda.com/products/individual-b) Python distribution, and installing these packages using `pip` as it is the easiest way to get up and running.\n",
    "\n",
    "You will need a copy of these notebooks on your machine, which can be copied using git from the [github](https://github.com/AOtools/aotools_tests) page.\n",
    "\n",
    "Finally these files need to be opened in a Jupyter notebook server. To start a Jupyter notebook server you should be able to use a command line (`jupyter notebook`) or launch it from the anaconda GUI."
   ]
  },
  {
   "cell_type": "markdown",
   "id": "ce8968cd-b2b8-4dc1-bc85-9cfb81f1e941",
   "metadata": {},
   "source": [
    "Notes for the Workshop\n",
    "----------------------\n",
    "\n",
    "We will be going through the notebooks in this folder together, feel free to follow along on your own machine if you have a working Jupyter notebook server. Alternatively, you can watch along as the notebooks are demonstrated and explained. As we are not expecting everyone to follow along on their own machine we will not be spending time in the workshop debugging and installing the required libraries or notebooks for people."
   ]
  },
  {
   "cell_type": "markdown",
   "id": "eb1a11fe-51d5-4f33-90c7-99db936097ea",
   "metadata": {},
   "source": []
  },
  {
   "cell_type": "code",
   "execution_count": null,
   "id": "d5d83264-9fe6-4402-b2d8-cf95e131fea8",
   "metadata": {},
   "outputs": [],
   "source": []
  }
 ],
 "metadata": {
  "kernelspec": {
   "display_name": "Python 3",
   "language": "python",
   "name": "python3"
  },
  "language_info": {
   "codemirror_mode": {
    "name": "ipython",
    "version": 3
   },
   "file_extension": ".py",
   "mimetype": "text/x-python",
   "name": "python",
   "nbconvert_exporter": "python",
   "pygments_lexer": "ipython3",
   "version": "3.8.10"
  }
 },
 "nbformat": 4,
 "nbformat_minor": 5
}
