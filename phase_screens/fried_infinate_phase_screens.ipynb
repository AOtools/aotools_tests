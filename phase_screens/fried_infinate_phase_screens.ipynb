{
 "cells": [
  {
   "cell_type": "markdown",
   "metadata": {},
   "source": [
    "Generating and Testing the Fried Infinate Phase Screens\n",
    "-------------------------------------------------------"
   ]
  },
  {
   "cell_type": "code",
   "execution_count": 1,
   "metadata": {},
   "outputs": [],
   "source": [
    "import numpy\n",
    "import matplotlib.pylab as plt\n",
    "from tqdm import tqdm, trange, tqdm_notebook\n",
    "from astropy.io import fits\n",
    "\n",
    "import aotools\n",
    "from aotools.turbulence import infinitephasescreen_fried, phasescreen, infinitephasescreen"
   ]
  },
  {
   "cell_type": "code",
   "execution_count": 3,
   "metadata": {},
   "outputs": [],
   "source": [
    "n_zerns = 60\n",
    "nx_size = 128\n",
    "D = 4.2\n",
    "pxl_scale = D/nx_size\n",
    "r0 = 0.164\n",
    "L0 = 100\n",
    "wind_speed = 10 #m/s - just arbitrarily set\n",
    "n_tests = 10 # 16\n",
    "n_scrns = 1000\n",
    "noll = fits.getdata(\"../noll.fits\").diagonal() * (D/r0)**(5./3)\n",
    "stencil_length_factor = 32\n",
    "\n",
    "Zs = aotools.zernikeArray(n_zerns, nx_size)"
   ]
  },
  {
   "cell_type": "code",
   "execution_count": 4,
   "metadata": {},
   "outputs": [
    {
     "name": "stderr",
     "output_type": "stream",
     "text": [
      "1st loop:   0%|          | 0/10 [00:00<?, ?it/s]"
     ]
    },
    {
     "name": "stdout",
     "output_type": "stream",
     "text": [
      "New size: 129\n"
     ]
    },
    {
     "name": "stderr",
     "output_type": "stream",
     "text": [
      "1st loop:  10%|█         | 1/10 [00:04<00:37,  4.21s/it]"
     ]
    },
    {
     "name": "stdout",
     "output_type": "stream",
     "text": [
      "New size: 129\n"
     ]
    },
    {
     "name": "stderr",
     "output_type": "stream",
     "text": [
      "1st loop:  20%|██        | 2/10 [00:07<00:32,  4.09s/it]"
     ]
    },
    {
     "name": "stdout",
     "output_type": "stream",
     "text": [
      "New size: 129\n"
     ]
    },
    {
     "name": "stderr",
     "output_type": "stream",
     "text": [
      "1st loop:  30%|███       | 3/10 [00:11<00:28,  4.06s/it]"
     ]
    },
    {
     "name": "stdout",
     "output_type": "stream",
     "text": [
      "New size: 129\n"
     ]
    },
    {
     "name": "stderr",
     "output_type": "stream",
     "text": [
      "1st loop:  40%|████      | 4/10 [00:16<00:24,  4.11s/it]"
     ]
    },
    {
     "name": "stdout",
     "output_type": "stream",
     "text": [
      "New size: 129\n"
     ]
    },
    {
     "name": "stderr",
     "output_type": "stream",
     "text": [
      "1st loop:  50%|█████     | 5/10 [00:20<00:20,  4.14s/it]"
     ]
    },
    {
     "name": "stdout",
     "output_type": "stream",
     "text": [
      "New size: 129\n"
     ]
    },
    {
     "name": "stderr",
     "output_type": "stream",
     "text": [
      "1st loop:  60%|██████    | 6/10 [00:24<00:16,  4.05s/it]"
     ]
    },
    {
     "name": "stdout",
     "output_type": "stream",
     "text": [
      "New size: 129\n"
     ]
    },
    {
     "name": "stderr",
     "output_type": "stream",
     "text": [
      "1st loop:  70%|███████   | 7/10 [00:28<00:12,  4.02s/it]"
     ]
    },
    {
     "name": "stdout",
     "output_type": "stream",
     "text": [
      "New size: 129\n"
     ]
    },
    {
     "name": "stderr",
     "output_type": "stream",
     "text": [
      "1st loop:  80%|████████  | 8/10 [00:32<00:07,  3.97s/it]"
     ]
    },
    {
     "name": "stdout",
     "output_type": "stream",
     "text": [
      "New size: 129\n"
     ]
    },
    {
     "name": "stderr",
     "output_type": "stream",
     "text": [
      "1st loop:  90%|█████████ | 9/10 [00:36<00:04,  4.00s/it]"
     ]
    },
    {
     "name": "stdout",
     "output_type": "stream",
     "text": [
      "New size: 129\n"
     ]
    },
    {
     "name": "stderr",
     "output_type": "stream",
     "text": [
      "1st loop: 100%|██████████| 10/10 [00:40<00:00,  4.02s/it]\n"
     ]
    }
   ],
   "source": [
    "stencil_length_factor = 16\n",
    "\n",
    "\n",
    "time_step = pxl_scale/wind_speed # This is timestep, as one pixel added on each iteration\n",
    "\n",
    "z_coeffs_inf_f = numpy.zeros((n_tests, n_scrns, n_zerns))\n",
    "# fig = pyplot.figure()\n",
    "\n",
    "for n in tqdm(range(n_tests), desc='1st loop'):\n",
    "    phase_screen = infinitephasescreen_fried.PhaseScreen(nx_size, pxl_scale, r0, L0, stencil_length_factor=stencil_length_factor)\n",
    "    for i in range(n_scrns):\n",
    "        # Go in all directions\n",
    "        phase_screen.addRow()\n",
    "        if n%4 == 0:\n",
    "            scrn = phase_screen.scrn\n",
    "        elif n%4 == 1:\n",
    "            scrn = phase_screen.scrn.T\n",
    "        elif n%4 == 2:\n",
    "            scrn = phase_screen.scrn[::-1]\n",
    "        else:\n",
    "            scrn = phase_screen.scrn[::-1].T\n",
    "            \n",
    "        z_coeffs_inf_f[n, i] = (scrn * Zs).sum((-1, -2))/(Zs[0].sum())\n",
    "        \n",
    "z_vars_inf_f = z_coeffs_inf_f.var(1)"
   ]
  },
  {
   "cell_type": "code",
   "execution_count": 5,
   "metadata": {},
   "outputs": [
    {
     "data": {
      "text/plain": [
       "<matplotlib.legend.Legend at 0x10e9867f0>"
      ]
     },
     "execution_count": 5,
     "metadata": {},
     "output_type": "execute_result"
    },
    {
     "data": {
      "image/png": "[encoded data removed]",
      "text/plain": [
       "<Figure size 432x288 with 1 Axes>"
      ]
     },
     "metadata": {
      "needs_background": "light"
     },
     "output_type": "display_data"
    }
   ],
   "source": [
    "f, a = plt.subplots()\n",
    "a.plot(z_vars_inf_f.mean(0), color=\"b\", label=\"Phase Screen\")\n",
    "a.plot(range(1, n_zerns+1), noll[:n_zerns] , label=\"Noll\", color=\"k\")\n",
    "a.set_yscale('log')\n",
    "a.set_xlabel(\"Zernike Index\")\n",
    "a.set_ylabel(\"Power ($\\mathrm{RMS Rad}^2$)\")\n",
    "plt.legend()"
   ]
  },
  {
   "cell_type": "code",
   "execution_count": 6,
   "metadata": {},
   "outputs": [
    {
     "name": "stdout",
     "output_type": "stream",
     "text": [
      "New size: 129\n",
      "(128, 128)\n"
     ]
    },
    {
     "data": {
      "image/png": "[encoded data removed]",
      "text/plain": [
       "<Figure size 432x288 with 2 Axes>"
      ]
     },
     "metadata": {
      "needs_background": "light"
     },
     "output_type": "display_data"
    }
   ],
   "source": [
    "phase_screen = infinitephasescreen_fried.PhaseScreen(nx_size, pxl_scale, r0, L0, stencil_length_factor=stencil_length_factor)\n",
    "print(phase_screen.scrn.shape)\n",
    "plt.figure()\n",
    "plt.imshow(phase_screen.scrn)\n",
    "cbar = plt.colorbar()\n",
    "cbar.set_label('Wavefront deviation (nm)', labelpad=8)"
   ]
  },
  {
   "cell_type": "code",
   "execution_count": null,
   "metadata": {},
   "outputs": [],
   "source": []
  },
  {
   "cell_type": "code",
   "execution_count": null,
   "metadata": {},
   "outputs": [],
   "source": []
  }
 ],
 "metadata": {
  "kernelspec": {
   "display_name": "Python 3",
   "language": "python",
   "name": "python3"
  },
  "language_info": {
   "codemirror_mode": {
    "name": "ipython",
    "version": 3
   },
   "file_extension": ".py",
   "mimetype": "text/x-python",
   "name": "python",
   "nbconvert_exporter": "python",
   "pygments_lexer": "ipython3",
   "version": "3.7.1"
  }
 },
 "nbformat": 4,
 "nbformat_minor": 2
}
