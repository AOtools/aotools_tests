{
 "cells": [
  {
   "cell_type": "markdown",
   "id": "7d1cb5f6-33cf-4780-ab0e-aa743a397c6d",
   "metadata": {},
   "source": [
    "Image Processing\n",
    "================\n",
    "\n",
    "\n",
    "This notebook shows examples of using `aotools` to do the following:\n",
    "- Measure properties of point sources\n",
    "- Measure properties of extended sources\n"
   ]
  },
  {
   "cell_type": "code",
   "execution_count": null,
   "id": "33f22a30-dec2-48c4-b1d9-62a66f210a90",
   "metadata": {},
   "outputs": [],
   "source": [
    "import numpy\n",
    "import matplotlib.pylab as plt\n",
    "from tqdm import tqdm, trange, tqdm_notebook\n",
    "from astropy.io import fits\n",
    "%matplotlib inline\n",
    "import aotools\n",
    "from aotools.turbulence import infinitephasescreen\n",
    "from matplotlib import animation, rc\n",
    "from IPython.display import HTML\n",
    "import matplotlib.colors as colors\n",
    "from aotools.turbulence.infinitephasescreen import PhaseScreenKolmogorov\n",
    "\n",
    "import scipy.signal\n",
    "j = 0+1j"
   ]
  },
  {
   "cell_type": "markdown",
   "id": "adcdc8ee-5b88-4c94-83b9-f6d723fb84c8",
   "metadata": {},
   "source": [
    "Measuring the Position of a Point Source\n",
    "----------------------------------------\n",
    "\n",
    "First we need to create our PSF. To do this we are going to simply take our aperture function example from the previous notebook. "
   ]
  },
  {
   "cell_type": "code",
   "execution_count": 3,
   "id": "5e2b3356-0343-48f4-8d92-a445aefe6940",
   "metadata": {},
   "outputs": [],
   "source": [
    "# Set up parameters for creating phase screens\n",
    "nx_size = 64"
   ]
  },
  {
   "cell_type": "code",
   "execution_count": 40,
   "id": "98aacd14-a209-4962-935e-ea784c540cb8",
   "metadata": {},
   "outputs": [
    {
     "data": {
      "image/png": "[encoded data removed]",
      "text/plain": [
       "<Figure size 432x288 with 2 Axes>"
      ]
     },
     "metadata": {
      "needs_background": "light"
     },
     "output_type": "display_data"
    }
   ],
   "source": [
    "pupil = aotools.circle(nx_size/2, nx_size)\n",
    "\n",
    "padded_pupil = numpy.zeros((nx_size*2, nx_size*2))\n",
    "y, x = padded_pupil.shape\n",
    "padded_pupil[:nx_size, :nx_size] = pupil\n",
    "\n",
    "# Use AOtools to transform from the pupil to the focal plane\n",
    "psf = numpy.abs(aotools.ft2(padded_pupil, delta=D*2/nx_size,)**2.)\n",
    "\n",
    "psf_cut= psf[int(y/2-nx_size/2):int(y/2+nx_size/2), int(y/2-nx_size/2):int(y/2+nx_size/2)]\n",
    "\n",
    "plt.figure()\n",
    "plt.imshow(psf_cut)\n",
    "plt.axis('off')\n",
    "cbar = plt.colorbar()\n",
    "cbar.set_label('Intensity (arbitrary units)', labelpad=8)"
   ]
  },
  {
   "cell_type": "markdown",
   "id": "713aaa0c-9fd1-4ecb-b076-d5b3a0e4ea3c",
   "metadata": {},
   "source": [
    "To measure the position of this PSF we can \"centroid\" it using any number of different techniques. The simplist is a centre of gravity, and can be used:"
   ]
  },
  {
   "cell_type": "code",
   "execution_count": 36,
   "id": "30f5a7d3-89bf-4aa3-8ee2-1bea2ebef663",
   "metadata": {},
   "outputs": [
    {
     "name": "stdout",
     "output_type": "stream",
     "text": [
      "[64. 64.]\n"
     ]
    }
   ],
   "source": [
    "centroid = aotools.centre_of_gravity(psf)\n",
    "print(centroid)"
   ]
  },
  {
   "cell_type": "markdown",
   "id": "8bf1ab31-5192-4bb3-bfcf-bb6836b38a1d",
   "metadata": {},
   "source": [
    "This gives us the position of the PSF, in our example using 64 x 64 pixel pupil with a factor of 2 oversampling the PSF is centred, so the `centre_of_gravity` method returns the pixel position of the centre."
   ]
  },
  {
   "cell_type": "code",
   "execution_count": 32,
   "id": "1fadb30c-d07a-4aef-b7ea-fe6c28b435b9",
   "metadata": {},
   "outputs": [],
   "source": [
    "D = 1.\n",
    "pxl_scale = D/nx_size\n",
    "r0 = 0.32\n",
    "L0 = 100\n",
    "wind_speed = 10 #m/s - just arbitrarily set\n",
    "stencil_length_factor = 32\n",
    "wavelength = 500e-9"
   ]
  },
  {
   "cell_type": "code",
   "execution_count": 38,
   "id": "4ebc3a8a-ee31-4c18-82b0-c8fbad77fb68",
   "metadata": {},
   "outputs": [
    {
     "data": {
      "image/png": "[encoded data removed]",
      "text/plain": [
       "<Figure size 432x288 with 2 Axes>"
      ]
     },
     "metadata": {
      "needs_background": "light"
     },
     "output_type": "display_data"
    }
   ],
   "source": [
    "# Create the phase screen object using aotools\n",
    "phase_screen = infinitephasescreen.PhaseScreenKolmogorov(nx_size, pxl_scale, r0, L0, stencil_length_factor=stencil_length_factor)\n",
    "wavefront = phase_screen.scrn\n",
    "wavefront *= aotools.circle(nx_size/2, nx_size)\n",
    "complex_phase = numpy.exp(j*wavefront)\n",
    "\n",
    "padded_pupil = numpy.zeros((nx_size*2, nx_size*2), dtype=numpy.complex64)\n",
    "padded_pupil[:nx_size, :nx_size] = complex_phase\n",
    "\n",
    "# Use AOtools to transform from the pupil to the focal plane\n",
    "psf = numpy.abs(aotools.ft2(padded_pupil, delta=D*2/nx_size,)**2.)\n",
    "\n",
    "psf_cut= psf[int(y/2-nx_size/2):int(y/2+nx_size/2), int(y/2-nx_size/2):int(y/2+nx_size/2)]\n",
    "\n",
    "# Plot the PSF\n",
    "plt.figure()\n",
    "plt.imshow(psf_cut)\n",
    "plt.axis('off')\n",
    "cbar = plt.colorbar()\n"
   ]
  },
  {
   "cell_type": "code",
   "execution_count": 39,
   "id": "dba248e3-8e41-4311-b190-80e139b52093",
   "metadata": {},
   "outputs": [
    {
     "name": "stdout",
     "output_type": "stream",
     "text": [
      "[66.30578063 63.08774449]\n"
     ]
    }
   ],
   "source": [
    "centroid = aotools.centre_of_gravity(psf)\n",
    "print(centroid)"
   ]
  },
  {
   "cell_type": "markdown",
   "id": "f6f87665-a4dc-4204-a352-c9ba554e0095",
   "metadata": {},
   "source": [
    "The PSF has moved. Note that the units here are pixels, and needs to be converted to the physical simulation units (_e.g._ arcseconds). This is done similarly to how it was described previously."
   ]
  },
  {
   "cell_type": "markdown",
   "id": "e8d4e5f4-b02c-4e8a-846b-caad06e43004",
   "metadata": {},
   "source": [
    "Now you have all the tools and knowledge to make your own Shack-Hartmann wavefront sensor, and the ability to process the images produced by it.\n",
    "\n",
    "> HINT: A Shack-Hartmann is essentially a grid placed across a pupil, with each \"box\" forming its own imaging system."
   ]
  },
  {
   "cell_type": "code",
   "execution_count": null,
   "id": "b0f59f2d-629d-44f3-a855-4f638376b7e3",
   "metadata": {},
   "outputs": [],
   "source": []
  }
 ],
 "metadata": {
  "kernelspec": {
   "display_name": "Python 3",
   "language": "python",
   "name": "python3"
  },
  "language_info": {
   "codemirror_mode": {
    "name": "ipython",
    "version": 3
   },
   "file_extension": ".py",
   "mimetype": "text/x-python",
   "name": "python",
   "nbconvert_exporter": "python",
   "pygments_lexer": "ipython3",
   "version": "3.8.10"
  }
 },
 "nbformat": 4,
 "nbformat_minor": 5
}
