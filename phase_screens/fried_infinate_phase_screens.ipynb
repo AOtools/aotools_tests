{
 "cells": [
  {
   "cell_type": "markdown",
   "metadata": {},
   "source": [
    "Generating and Testing the Fried Infinate Phase Screens\n",
    "======================================================="
   ]
  },
  {
   "cell_type": "code",
   "execution_count": null,
   "metadata": {},
   "outputs": [],
   "source": [
    "import numpy\n",
    "import matplotlib.pylab as plt\n",
    "from tqdm import tqdm, trange, tqdm_notebook\n",
    "from astropy.io import fits\n",
    "\n",
    "import aotools\n",
    "from aotools.turbulence.infinitephasescreen import PhaseScreenKolmogorov\n",
    "from aotools.turbulence import infinitephasescreen"
   ]
  },
  {
   "cell_type": "code",
   "execution_count": null,
   "metadata": {},
   "outputs": [],
   "source": [
    "# Set up parameters for creating phase screens\n",
    "n_zerns = 60\n",
    "nx_size = 64\n",
    "D = 1.\n",
    "pxl_scale = D/nx_size\n",
    "r0 = 0.164\n",
    "L0 = 100\n",
    "wind_speed = 10 #m/s - just arbitrarily set\n",
    "n_tests = 25 # 16\n",
    "n_scrns = 100\n",
    "noll = fits.getdata(\"../noll.fits\").diagonal() * (D/r0)**(5./3)\n",
    "stencil_length_factor = 32\n",
    "\n",
    "Zs = aotools.zernikeArray(n_zerns, nx_size)"
   ]
  },
  {
   "cell_type": "markdown",
   "metadata": {},
   "source": [
    "Example Phase Screen\n",
    "--------------------"
   ]
  },
  {
   "cell_type": "code",
   "execution_count": null,
   "metadata": {},
   "outputs": [],
   "source": [
    "phase_screen = PhaseScreenKolmogorov(nx_size, pxl_scale, r0, L0, stencil_length_factor=stencil_length_factor)\n",
    "print(phase_screen.scrn.shape)\n",
    "plt.figure()\n",
    "plt.imshow(phase_screen.scrn)\n",
    "cbar = plt.colorbar()\n",
    "cbar.set_label('Wavefront deviation (radians)', labelpad=8)"
   ]
  },
  {
   "cell_type": "markdown",
   "metadata": {},
   "source": [
    "Zernike Breakdown of Phase Screen\n",
    "---------------------------------"
   ]
  },
  {
   "cell_type": "code",
   "execution_count": null,
   "metadata": {},
   "outputs": [],
   "source": [
    "time_step = pxl_scale/wind_speed # This is timestep, as one pixel added on each iteration\n",
    "\n",
    "z_coeffs_inf_f = numpy.zeros((n_tests, n_scrns, n_zerns))\n",
    "\n",
    "for n in tqdm(range(n_tests)):\n",
    "    phase_screen = PhaseScreenKolmogorov(nx_size, pxl_scale, r0, L0, stencil_length_factor=stencil_length_factor)\n",
    "    for i in range(n_scrns):\n",
    "        # Go in all directions\n",
    "        phase_screen.add_row()\n",
    "        if n%4 == 0:\n",
    "            scrn = phase_screen.scrn\n",
    "        elif n%4 == 1:\n",
    "            scrn = phase_screen.scrn.T\n",
    "        elif n%4 == 2:\n",
    "            scrn = phase_screen.scrn[::-1]\n",
    "        else:\n",
    "            scrn = phase_screen.scrn[::-1].T\n",
    "            \n",
    "        z_coeffs_inf_f[n, i] = (scrn * Zs).sum((-1, -2))/(Zs[0].sum())\n",
    "        \n",
    "z_vars_inf_f = z_coeffs_inf_f.var(1)"
   ]
  },
  {
   "cell_type": "code",
   "execution_count": null,
   "metadata": {},
   "outputs": [],
   "source": [
    "f, a = plt.subplots()\n",
    "a.plot(z_vars_inf_f.mean(0), color=\"b\", label=\"Phase Screen\")\n",
    "a.plot(range(1, n_zerns+1), noll[:n_zerns] , label=\"Noll\", color=\"k\")\n",
    "a.set_yscale('log')\n",
    "a.set_xlabel(\"Zernike Index\")\n",
    "a.set_ylabel(\"Power ($\\mathrm{RMS Rad}^2$)\")\n",
    "plt.legend()"
   ]
  },
  {
   "cell_type": "markdown",
   "metadata": {},
   "source": [
    "r<sub>0</sub> Scaling\n",
    "---------------------"
   ]
  },
  {
   "cell_type": "code",
   "execution_count": null,
   "metadata": {},
   "outputs": [],
   "source": [
    "r0s = [0.05, 0.1, 0.15, 0.2]\n",
    "screens = 1\n",
    "size = 256\n",
    "region = 128\n",
    "D = 4.2\n",
    "pxl_scale = float(D/region)\n",
    "\n",
    "for i, r0 in enumerate(r0s):\n",
    "    for j in range(screens):\n",
    "        phase_screen = infinitephasescreen.PhaseScreen(size, pxl_scale, r0, 100., stencil_length_factor=stencil_length_factor)\n",
    "        \n",
    "        region_screen = phase_screen.scrn[100:100+region, 100:100+region]\n",
    "        variance = region_screen.var()\n",
    "        print(r0, variance)"
   ]
  },
  {
   "cell_type": "code",
   "execution_count": null,
   "metadata": {},
   "outputs": [],
   "source": [
    "from aotools.turbulence import ft_phase_screen"
   ]
  },
  {
   "cell_type": "code",
   "execution_count": null,
   "metadata": {},
   "outputs": [],
   "source": [
    "infinitephasescreen.PhaseScreen."
   ]
  },
  {
   "cell_type": "code",
   "execution_count": null,
   "metadata": {},
   "outputs": [],
   "source": []
  }
 ],
 "metadata": {
  "kernelspec": {
   "display_name": "Python 3",
   "language": "python",
   "name": "python3"
  },
  "language_info": {
   "codemirror_mode": {
    "name": "ipython",
    "version": 3
   },
   "file_extension": ".py",
   "mimetype": "text/x-python",
   "name": "python",
   "nbconvert_exporter": "python",
   "pygments_lexer": "ipython3",
   "version": "3.8.3"
  }
 },
 "nbformat": 4,
 "nbformat_minor": 4
}
