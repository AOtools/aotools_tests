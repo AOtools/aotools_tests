{
 "cells": [
  {
   "cell_type": "markdown",
   "metadata": {},
   "source": [
    "Scintillation Patterns\n",
    "----------------------\n",
    "* For infinite phase screen"
   ]
  },
  {
   "cell_type": "code",
   "execution_count": null,
   "metadata": {},
   "outputs": [],
   "source": [
    "import numpy\n",
    "import matplotlib.pylab as plt\n",
    "import matplotlib.colors as colors\n",
    "from tqdm import tqdm, trange, tqdm_notebook\n",
    "from astropy.io import fits\n",
    "from tqdm import tqdm\n",
    "\n",
    "import aotools\n",
    "from aotools.turbulence.infinitephasescreen import PhaseScreenKolmogorov\n",
    "j = 0+1j"
   ]
  },
  {
   "cell_type": "code",
   "execution_count": null,
   "metadata": {},
   "outputs": [],
   "source": [
    "def W(f, z, cn2, wvl=500e-9):\n",
    "    '''\n",
    "    Spatial power spectrum of irradiance fluctuations (Tokovinin 2002)\n",
    "\n",
    "    Assumes Kolmogorov turbulence and weak perturbation limit.\n",
    "    '''\n",
    "    return 3.9e-2 * (2*numpy.pi/wvl)**2 * cn2 * f**(-11/3) * (numpy.sin(numpy.pi * wvl * z * f**2))**2"
   ]
  },
  {
   "cell_type": "code",
   "execution_count": null,
   "metadata": {},
   "outputs": [],
   "source": [
    "# Set up parameters for creating phase screens\n",
    "N_scrns = 100 # Number of phase screens to average over to get spatial power spectrum\n",
    "nx_size = 68\n",
    "D = 1.\n",
    "pxl_scale = D/nx_size\n",
    "r0 = 0.32 # Need large r0 (weak turbulence) to ensure no saturation of scintillation\n",
    "L0 = 100\n",
    "l0=0.001\n",
    "wind_speed = 10 #m/s - just arbitrarily set\n",
    "z = 10000. # propagation distance\n",
    "stencil_length_factor = 32"
   ]
  },
  {
   "cell_type": "code",
   "execution_count": null,
   "metadata": {},
   "outputs": [],
   "source": [
    "# Generate phase screens\n",
    "phase_screens = []\n",
    "for i in tqdm(range(N_scrns)):\n",
    "    phase_screens.append(PhaseScreenKolmogorov(nx_size, pxl_scale, r0, L0, stencil_length_factor=stencil_length_factor))"
   ]
  },
  {
   "cell_type": "code",
   "execution_count": null,
   "metadata": {},
   "outputs": [],
   "source": [
    "plt.figure()\n",
    "plt.imshow(phase_screens[0].scrn)\n",
    "cbar = plt.colorbar()\n",
    "cbar.set_label('Wavefront deviation (radians)', labelpad=8)"
   ]
  },
  {
   "cell_type": "code",
   "execution_count": null,
   "metadata": {},
   "outputs": [],
   "source": [
    "propagated_screens = numpy.array([aotools.opticalpropagation.angularSpectrum(numpy.exp(j*i.scrn), 500e-9, pxl_scale, pxl_scale, 10000.) for i in phase_screens])"
   ]
  },
  {
   "cell_type": "code",
   "execution_count": null,
   "metadata": {},
   "outputs": [],
   "source": [
    "I = numpy.abs(propagated_screens)**2 # Scintillation intensity patterns"
   ]
  },
  {
   "cell_type": "code",
   "execution_count": null,
   "metadata": {},
   "outputs": [],
   "source": [
    "plt.figure()\n",
    "plt.imshow(I[0])\n",
    "cbar = plt.colorbar()\n",
    "cbar.set_label('Intensity (arb. units)', labelpad=8)"
   ]
  },
  {
   "cell_type": "code",
   "execution_count": null,
   "metadata": {},
   "outputs": [],
   "source": [
    "powerspecs_2d = numpy.array([abs(aotools.fouriertransform.ft2(i, D/nx_size))**2 for i in I])"
   ]
  },
  {
   "cell_type": "code",
   "execution_count": null,
   "metadata": {},
   "outputs": [],
   "source": [
    "# Plot 2d irradiance power spectrum\n",
    "plt.figure()\n",
    "plt.imshow(powerspecs_2d.mean(0), norm=colors.LogNorm(1e-6,1e-3))\n",
    "cbar = plt.colorbar()"
   ]
  },
  {
   "cell_type": "code",
   "execution_count": null,
   "metadata": {},
   "outputs": [],
   "source": [
    "# Take azimuthal avg of 2d spatial power spectrum to compare with theory\n",
    "powerspec_1d = aotools.azimuthal_average(powerspecs_2d.mean(0))"
   ]
  },
  {
   "cell_type": "code",
   "execution_count": null,
   "metadata": {},
   "outputs": [],
   "source": [
    "fs = numpy.fft.fftshift(numpy.fft.fftfreq(nx_size, d=D/nx_size))[int(nx_size/2)+1:] # Fourier space coordinates"
   ]
  },
  {
   "cell_type": "code",
   "execution_count": null,
   "metadata": {},
   "outputs": [],
   "source": [
    "# Theoretical power spectrum\n",
    "W_th = W(fs, z, aotools.r0_to_cn2(r0))"
   ]
  },
  {
   "cell_type": "code",
   "execution_count": null,
   "metadata": {},
   "outputs": [],
   "source": [
    "plt.figure()\n",
    "plt.plot(fs, W_th/W_th.max(), label='Theory')\n",
    "plt.scatter(fs, powerspec_1d[1:]/powerspec_1d[1:].max(), marker='.', label='AOtools')\n",
    "plt.xlabel('Spatial frequency (m$^{-1}$)')\n",
    "plt.ylabel('Irradiance power spectrum (arb. units)')\n",
    "plt.legend(loc=0)\n",
    "plt.xlim(0,25)"
   ]
  },
  {
   "cell_type": "code",
   "execution_count": null,
   "metadata": {},
   "outputs": [],
   "source": []
  }
 ],
 "metadata": {
  "kernelspec": {
   "display_name": "Python 3",
   "language": "python",
   "name": "python3"
  },
  "language_info": {
   "codemirror_mode": {
    "name": "ipython",
    "version": 3
   },
   "file_extension": ".py",
   "mimetype": "text/x-python",
   "name": "python",
   "nbconvert_exporter": "python",
   "pygments_lexer": "ipython3",
   "version": "3.8.3"
  }
 },
 "nbformat": 4,
 "nbformat_minor": 4
}
