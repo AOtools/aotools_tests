{
 "cells": [
  {
   "cell_type": "markdown",
   "metadata": {},
   "source": [
    "Sub-aperture Masks\n",
    "------------------"
   ]
  },
  {
   "cell_type": "code",
   "execution_count": null,
   "metadata": {},
   "outputs": [],
   "source": [
    "import aotools\n",
    "import matplotlib.pylab as plt"
   ]
  },
  {
   "cell_type": "code",
   "execution_count": null,
   "metadata": {},
   "outputs": [],
   "source": [
    "# Create pupil mask and calculate spacing between sub-aps in pupil units\n",
    "pupil = aotools.circle(64, 128) - aotools.circle(16, 128)\n",
    "sub_ap_width = 128./7"
   ]
  },
  {
   "cell_type": "code",
   "execution_count": null,
   "metadata": {},
   "outputs": [],
   "source": [
    "# Create active sub-aperture array\n",
    "sub_aps = aotools.wfs.findActiveSubaps(7, pupil, 0.6)"
   ]
  },
  {
   "cell_type": "code",
   "execution_count": null,
   "metadata": {},
   "outputs": [],
   "source": [
    "plt.figure()\n",
    "plt.imshow(pupil, alpha=0.7, cmap='gray')\n",
    "\n",
    "for i in range(len(sub_aps)):\n",
    "    plt.plot([sub_aps[i, 0], sub_aps[i, 0]], [sub_aps[i, 1], sub_aps[i, 1]+sub_ap_width], c='k')\n",
    "    plt.plot([sub_aps[i, 0], sub_aps[i, 0]+sub_ap_width], [sub_aps[i, 1], sub_aps[i, 1]], c='k')\n",
    "    plt.plot([sub_aps[i, 0]+sub_ap_width, sub_aps[i, 0]+sub_ap_width], [sub_aps[i, 1], sub_aps[i, 1]+sub_ap_width], c='k')\n",
    "    plt.plot([sub_aps[i, 0], sub_aps[i, 0]+sub_ap_width], [sub_aps[i, 1]+sub_ap_width, sub_aps[i, 1]+sub_ap_width], c='k')\n",
    "\n",
    "plt.xlim(0, 128)\n",
    "plt.ylim(0, 128)"
   ]
  },
  {
   "cell_type": "code",
   "execution_count": null,
   "metadata": {},
   "outputs": [],
   "source": []
  }
 ],
 "metadata": {
  "kernelspec": {
   "display_name": "Python 3",
   "language": "python",
   "name": "python3"
  },
  "language_info": {
   "codemirror_mode": {
    "name": "ipython",
    "version": 3
   },
   "file_extension": ".py",
   "mimetype": "text/x-python",
   "name": "python",
   "nbconvert_exporter": "python",
   "pygments_lexer": "ipython3",
   "version": "3.8.3"
  }
 },
 "nbformat": 4,
 "nbformat_minor": 4
}
